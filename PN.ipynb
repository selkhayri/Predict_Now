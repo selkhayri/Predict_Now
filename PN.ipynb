{
 "cells": [
  {
   "cell_type": "code",
   "execution_count": 1,
   "id": "93acc70a",
   "metadata": {
    "scrolled": true
   },
   "outputs": [],
   "source": [
    "# import xlsxwriter\n",
    "import pylightxl as xl\n",
    "import pandas as pd\n",
    "from sklearn.linear_model import LogisticRegression\n",
    "from sklearn.model_selection import train_test_split\n",
    "from sklearn.metrics import confusion_matrix\n",
    "import pickle\n",
    "# from sklearn.preprocessing import MinMaxScaler"
   ]
  },
  {
   "cell_type": "code",
   "execution_count": 2,
   "id": "558ccaaf",
   "metadata": {},
   "outputs": [],
   "source": [
    "# readxl returns a pylightxl database that holds all worksheets and its data\n",
    "db = xl.readxl(fn='SPX_train_0.xlsx')"
   ]
  },
  {
   "cell_type": "code",
   "execution_count": 3,
   "id": "caeec8f2",
   "metadata": {},
   "outputs": [
    {
     "data": {
      "text/plain": [
       "['Sheet1']"
      ]
     },
     "execution_count": 3,
     "metadata": {},
     "output_type": "execute_result"
    }
   ],
   "source": [
    "db.ws_names"
   ]
  },
  {
   "cell_type": "code",
   "execution_count": 4,
   "id": "0aac6cbd",
   "metadata": {},
   "outputs": [
    {
     "data": {
      "text/plain": [
       "['Time',\n",
       " 'Returns',\n",
       " 'dp',\n",
       " 'dy',\n",
       " 'ep',\n",
       " 'de',\n",
       " 'svar',\n",
       " 'bm',\n",
       " 'ntis',\n",
       " 'tbl',\n",
       " 'lty',\n",
       " 'ltr',\n",
       " 'tms',\n",
       " 'dfy',\n",
       " 'dfr',\n",
       " 'infl']"
      ]
     },
     "execution_count": 4,
     "metadata": {},
     "output_type": "execute_result"
    }
   ],
   "source": [
    "db.ws(ws='Sheet1').row(row=1)"
   ]
  },
  {
   "cell_type": "code",
   "execution_count": 5,
   "id": "e97287df",
   "metadata": {},
   "outputs": [],
   "source": [
    "file_rows = []\n",
    "\n",
    "for row in db.ws(ws='Sheet1').rows:\n",
    "       file_rows.append(row)\n"
   ]
  },
  {
   "cell_type": "code",
   "execution_count": 6,
   "id": "3389cdae",
   "metadata": {},
   "outputs": [
    {
     "data": {
      "text/html": [
       "<div>\n",
       "<style scoped>\n",
       "    .dataframe tbody tr th:only-of-type {\n",
       "        vertical-align: middle;\n",
       "    }\n",
       "\n",
       "    .dataframe tbody tr th {\n",
       "        vertical-align: top;\n",
       "    }\n",
       "\n",
       "    .dataframe thead th {\n",
       "        text-align: right;\n",
       "    }\n",
       "</style>\n",
       "<table border=\"1\" class=\"dataframe\">\n",
       "  <thead>\n",
       "    <tr style=\"text-align: right;\">\n",
       "      <th></th>\n",
       "      <th>Time</th>\n",
       "      <th>Returns</th>\n",
       "      <th>dp</th>\n",
       "      <th>dy</th>\n",
       "      <th>ep</th>\n",
       "      <th>de</th>\n",
       "      <th>svar</th>\n",
       "      <th>bm</th>\n",
       "      <th>ntis</th>\n",
       "      <th>tbl</th>\n",
       "      <th>lty</th>\n",
       "      <th>ltr</th>\n",
       "      <th>tms</th>\n",
       "      <th>dfy</th>\n",
       "      <th>dfr</th>\n",
       "      <th>infl</th>\n",
       "    </tr>\n",
       "  </thead>\n",
       "  <tbody>\n",
       "    <tr>\n",
       "      <th>0</th>\n",
       "      <td>1945-01</td>\n",
       "      <td>1</td>\n",
       "      <td>-3.041609</td>\n",
       "      <td>-3.027403</td>\n",
       "      <td>-2.662340</td>\n",
       "      <td>-0.379269</td>\n",
       "      <td>0.000924</td>\n",
       "      <td>0.735342</td>\n",
       "      <td>0.016454</td>\n",
       "      <td>0.0038</td>\n",
       "      <td>0.0240</td>\n",
       "      <td>0.0127</td>\n",
       "      <td>0.0202</td>\n",
       "      <td>0.0077</td>\n",
       "      <td>-0.0051</td>\n",
       "      <td>0.000000</td>\n",
       "    </tr>\n",
       "    <tr>\n",
       "      <th>1</th>\n",
       "      <td>1945-02</td>\n",
       "      <td>0</td>\n",
       "      <td>-3.096132</td>\n",
       "      <td>-3.036338</td>\n",
       "      <td>-2.711553</td>\n",
       "      <td>-0.384579</td>\n",
       "      <td>0.000655</td>\n",
       "      <td>0.704489</td>\n",
       "      <td>0.014836</td>\n",
       "      <td>0.0038</td>\n",
       "      <td>0.0236</td>\n",
       "      <td>0.0077</td>\n",
       "      <td>0.0198</td>\n",
       "      <td>0.0076</td>\n",
       "      <td>-0.0031</td>\n",
       "      <td>0.000000</td>\n",
       "    </tr>\n",
       "    <tr>\n",
       "      <th>2</th>\n",
       "      <td>1945-03</td>\n",
       "      <td>1</td>\n",
       "      <td>-3.043790</td>\n",
       "      <td>-3.091042</td>\n",
       "      <td>-2.653829</td>\n",
       "      <td>-0.389961</td>\n",
       "      <td>0.001887</td>\n",
       "      <td>0.767883</td>\n",
       "      <td>0.015963</td>\n",
       "      <td>0.0038</td>\n",
       "      <td>0.0236</td>\n",
       "      <td>0.0021</td>\n",
       "      <td>0.0198</td>\n",
       "      <td>0.0076</td>\n",
       "      <td>-0.0003</td>\n",
       "      <td>0.000000</td>\n",
       "    </tr>\n",
       "    <tr>\n",
       "      <th>3</th>\n",
       "      <td>1945-04</td>\n",
       "      <td>1</td>\n",
       "      <td>-3.128109</td>\n",
       "      <td>-3.043790</td>\n",
       "      <td>-2.724389</td>\n",
       "      <td>-0.403720</td>\n",
       "      <td>0.001398</td>\n",
       "      <td>0.715063</td>\n",
       "      <td>0.015086</td>\n",
       "      <td>0.0038</td>\n",
       "      <td>0.0228</td>\n",
       "      <td>0.0160</td>\n",
       "      <td>0.0190</td>\n",
       "      <td>0.0075</td>\n",
       "      <td>-0.0142</td>\n",
       "      <td>0.000000</td>\n",
       "    </tr>\n",
       "    <tr>\n",
       "      <th>4</th>\n",
       "      <td>1945-05</td>\n",
       "      <td>0</td>\n",
       "      <td>-3.139500</td>\n",
       "      <td>-3.128109</td>\n",
       "      <td>-2.722106</td>\n",
       "      <td>-0.417394</td>\n",
       "      <td>0.000921</td>\n",
       "      <td>0.702911</td>\n",
       "      <td>0.019773</td>\n",
       "      <td>0.0038</td>\n",
       "      <td>0.0226</td>\n",
       "      <td>0.0056</td>\n",
       "      <td>0.0188</td>\n",
       "      <td>0.0070</td>\n",
       "      <td>-0.0067</td>\n",
       "      <td>0.005618</td>\n",
       "    </tr>\n",
       "  </tbody>\n",
       "</table>\n",
       "</div>"
      ],
      "text/plain": [
       "      Time  Returns        dp        dy        ep        de      svar  \\\n",
       "0  1945-01        1 -3.041609 -3.027403 -2.662340 -0.379269  0.000924   \n",
       "1  1945-02        0 -3.096132 -3.036338 -2.711553 -0.384579  0.000655   \n",
       "2  1945-03        1 -3.043790 -3.091042 -2.653829 -0.389961  0.001887   \n",
       "3  1945-04        1 -3.128109 -3.043790 -2.724389 -0.403720  0.001398   \n",
       "4  1945-05        0 -3.139500 -3.128109 -2.722106 -0.417394  0.000921   \n",
       "\n",
       "         bm      ntis     tbl     lty     ltr     tms     dfy     dfr  \\\n",
       "0  0.735342  0.016454  0.0038  0.0240  0.0127  0.0202  0.0077 -0.0051   \n",
       "1  0.704489  0.014836  0.0038  0.0236  0.0077  0.0198  0.0076 -0.0031   \n",
       "2  0.767883  0.015963  0.0038  0.0236  0.0021  0.0198  0.0076 -0.0003   \n",
       "3  0.715063  0.015086  0.0038  0.0228  0.0160  0.0190  0.0075 -0.0142   \n",
       "4  0.702911  0.019773  0.0038  0.0226  0.0056  0.0188  0.0070 -0.0067   \n",
       "\n",
       "       infl  \n",
       "0  0.000000  \n",
       "1  0.000000  \n",
       "2  0.000000  \n",
       "3  0.000000  \n",
       "4  0.005618  "
      ]
     },
     "execution_count": 6,
     "metadata": {},
     "output_type": "execute_result"
    }
   ],
   "source": [
    "df = pd.DataFrame(file_rows[1:])\n",
    "df.columns = file_rows[0]\n",
    "df.head()"
   ]
  },
  {
   "cell_type": "code",
   "execution_count": 7,
   "id": "d605deb5",
   "metadata": {},
   "outputs": [
    {
     "data": {
      "text/html": [
       "<div>\n",
       "<style scoped>\n",
       "    .dataframe tbody tr th:only-of-type {\n",
       "        vertical-align: middle;\n",
       "    }\n",
       "\n",
       "    .dataframe tbody tr th {\n",
       "        vertical-align: top;\n",
       "    }\n",
       "\n",
       "    .dataframe thead th {\n",
       "        text-align: right;\n",
       "    }\n",
       "</style>\n",
       "<table border=\"1\" class=\"dataframe\">\n",
       "  <thead>\n",
       "    <tr style=\"text-align: right;\">\n",
       "      <th></th>\n",
       "      <th>dp</th>\n",
       "      <th>dy</th>\n",
       "      <th>ep</th>\n",
       "      <th>de</th>\n",
       "      <th>svar</th>\n",
       "      <th>bm</th>\n",
       "      <th>ntis</th>\n",
       "      <th>tbl</th>\n",
       "      <th>lty</th>\n",
       "      <th>ltr</th>\n",
       "      <th>tms</th>\n",
       "      <th>dfy</th>\n",
       "      <th>dfr</th>\n",
       "      <th>infl</th>\n",
       "    </tr>\n",
       "  </thead>\n",
       "  <tbody>\n",
       "    <tr>\n",
       "      <th>0</th>\n",
       "      <td>-3.041609</td>\n",
       "      <td>-3.027403</td>\n",
       "      <td>-2.662340</td>\n",
       "      <td>-0.379269</td>\n",
       "      <td>0.000924</td>\n",
       "      <td>0.735342</td>\n",
       "      <td>0.016454</td>\n",
       "      <td>0.0038</td>\n",
       "      <td>0.0240</td>\n",
       "      <td>0.0127</td>\n",
       "      <td>0.0202</td>\n",
       "      <td>0.0077</td>\n",
       "      <td>-0.0051</td>\n",
       "      <td>0.000000</td>\n",
       "    </tr>\n",
       "    <tr>\n",
       "      <th>1</th>\n",
       "      <td>-3.096132</td>\n",
       "      <td>-3.036338</td>\n",
       "      <td>-2.711553</td>\n",
       "      <td>-0.384579</td>\n",
       "      <td>0.000655</td>\n",
       "      <td>0.704489</td>\n",
       "      <td>0.014836</td>\n",
       "      <td>0.0038</td>\n",
       "      <td>0.0236</td>\n",
       "      <td>0.0077</td>\n",
       "      <td>0.0198</td>\n",
       "      <td>0.0076</td>\n",
       "      <td>-0.0031</td>\n",
       "      <td>0.000000</td>\n",
       "    </tr>\n",
       "    <tr>\n",
       "      <th>2</th>\n",
       "      <td>-3.043790</td>\n",
       "      <td>-3.091042</td>\n",
       "      <td>-2.653829</td>\n",
       "      <td>-0.389961</td>\n",
       "      <td>0.001887</td>\n",
       "      <td>0.767883</td>\n",
       "      <td>0.015963</td>\n",
       "      <td>0.0038</td>\n",
       "      <td>0.0236</td>\n",
       "      <td>0.0021</td>\n",
       "      <td>0.0198</td>\n",
       "      <td>0.0076</td>\n",
       "      <td>-0.0003</td>\n",
       "      <td>0.000000</td>\n",
       "    </tr>\n",
       "    <tr>\n",
       "      <th>3</th>\n",
       "      <td>-3.128109</td>\n",
       "      <td>-3.043790</td>\n",
       "      <td>-2.724389</td>\n",
       "      <td>-0.403720</td>\n",
       "      <td>0.001398</td>\n",
       "      <td>0.715063</td>\n",
       "      <td>0.015086</td>\n",
       "      <td>0.0038</td>\n",
       "      <td>0.0228</td>\n",
       "      <td>0.0160</td>\n",
       "      <td>0.0190</td>\n",
       "      <td>0.0075</td>\n",
       "      <td>-0.0142</td>\n",
       "      <td>0.000000</td>\n",
       "    </tr>\n",
       "    <tr>\n",
       "      <th>4</th>\n",
       "      <td>-3.139500</td>\n",
       "      <td>-3.128109</td>\n",
       "      <td>-2.722106</td>\n",
       "      <td>-0.417394</td>\n",
       "      <td>0.000921</td>\n",
       "      <td>0.702911</td>\n",
       "      <td>0.019773</td>\n",
       "      <td>0.0038</td>\n",
       "      <td>0.0226</td>\n",
       "      <td>0.0056</td>\n",
       "      <td>0.0188</td>\n",
       "      <td>0.0070</td>\n",
       "      <td>-0.0067</td>\n",
       "      <td>0.005618</td>\n",
       "    </tr>\n",
       "    <tr>\n",
       "      <th>...</th>\n",
       "      <td>...</td>\n",
       "      <td>...</td>\n",
       "      <td>...</td>\n",
       "      <td>...</td>\n",
       "      <td>...</td>\n",
       "      <td>...</td>\n",
       "      <td>...</td>\n",
       "      <td>...</td>\n",
       "      <td>...</td>\n",
       "      <td>...</td>\n",
       "      <td>...</td>\n",
       "      <td>...</td>\n",
       "      <td>...</td>\n",
       "      <td>...</td>\n",
       "    </tr>\n",
       "    <tr>\n",
       "      <th>894</th>\n",
       "      <td>-3.966309</td>\n",
       "      <td>-3.953266</td>\n",
       "      <td>-3.098391</td>\n",
       "      <td>-0.867918</td>\n",
       "      <td>0.000594</td>\n",
       "      <td>0.233834</td>\n",
       "      <td>-0.012703</td>\n",
       "      <td>0.0210</td>\n",
       "      <td>0.0206</td>\n",
       "      <td>0.0024</td>\n",
       "      <td>-0.0004</td>\n",
       "      <td>0.0099</td>\n",
       "      <td>0.0060</td>\n",
       "      <td>0.001671</td>\n",
       "    </tr>\n",
       "    <tr>\n",
       "      <th>895</th>\n",
       "      <td>-3.941330</td>\n",
       "      <td>-3.959587</td>\n",
       "      <td>-3.086025</td>\n",
       "      <td>-0.855304</td>\n",
       "      <td>0.004318</td>\n",
       "      <td>0.237917</td>\n",
       "      <td>-0.010244</td>\n",
       "      <td>0.0195</td>\n",
       "      <td>0.0163</td>\n",
       "      <td>0.0797</td>\n",
       "      <td>-0.0032</td>\n",
       "      <td>0.0089</td>\n",
       "      <td>-0.0059</td>\n",
       "      <td>-0.000051</td>\n",
       "    </tr>\n",
       "    <tr>\n",
       "      <th>896</th>\n",
       "      <td>-3.951689</td>\n",
       "      <td>-3.934654</td>\n",
       "      <td>-3.108987</td>\n",
       "      <td>-0.842702</td>\n",
       "      <td>0.000605</td>\n",
       "      <td>0.233377</td>\n",
       "      <td>-0.010959</td>\n",
       "      <td>0.0189</td>\n",
       "      <td>0.0170</td>\n",
       "      <td>-0.0192</td>\n",
       "      <td>-0.0019</td>\n",
       "      <td>0.0088</td>\n",
       "      <td>0.0002</td>\n",
       "      <td>0.000783</td>\n",
       "    </tr>\n",
       "    <tr>\n",
       "      <th>897</th>\n",
       "      <td>-3.965984</td>\n",
       "      <td>-3.945758</td>\n",
       "      <td>-3.112869</td>\n",
       "      <td>-0.853115</td>\n",
       "      <td>0.001510</td>\n",
       "      <td>0.232261</td>\n",
       "      <td>-0.013267</td>\n",
       "      <td>0.0165</td>\n",
       "      <td>0.0171</td>\n",
       "      <td>-0.0052</td>\n",
       "      <td>0.0006</td>\n",
       "      <td>0.0091</td>\n",
       "      <td>0.0058</td>\n",
       "      <td>0.002286</td>\n",
       "    </tr>\n",
       "    <tr>\n",
       "      <th>898</th>\n",
       "      <td>-3.993568</td>\n",
       "      <td>-3.960087</td>\n",
       "      <td>-3.130267</td>\n",
       "      <td>-0.863300</td>\n",
       "      <td>0.000306</td>\n",
       "      <td>0.223938</td>\n",
       "      <td>-0.007907</td>\n",
       "      <td>0.0154</td>\n",
       "      <td>0.0181</td>\n",
       "      <td>-0.0059</td>\n",
       "      <td>0.0027</td>\n",
       "      <td>0.0088</td>\n",
       "      <td>0.0073</td>\n",
       "      <td>-0.000536</td>\n",
       "    </tr>\n",
       "  </tbody>\n",
       "</table>\n",
       "<p>899 rows × 14 columns</p>\n",
       "</div>"
      ],
      "text/plain": [
       "           dp        dy        ep        de      svar        bm      ntis  \\\n",
       "0   -3.041609 -3.027403 -2.662340 -0.379269  0.000924  0.735342  0.016454   \n",
       "1   -3.096132 -3.036338 -2.711553 -0.384579  0.000655  0.704489  0.014836   \n",
       "2   -3.043790 -3.091042 -2.653829 -0.389961  0.001887  0.767883  0.015963   \n",
       "3   -3.128109 -3.043790 -2.724389 -0.403720  0.001398  0.715063  0.015086   \n",
       "4   -3.139500 -3.128109 -2.722106 -0.417394  0.000921  0.702911  0.019773   \n",
       "..        ...       ...       ...       ...       ...       ...       ...   \n",
       "894 -3.966309 -3.953266 -3.098391 -0.867918  0.000594  0.233834 -0.012703   \n",
       "895 -3.941330 -3.959587 -3.086025 -0.855304  0.004318  0.237917 -0.010244   \n",
       "896 -3.951689 -3.934654 -3.108987 -0.842702  0.000605  0.233377 -0.010959   \n",
       "897 -3.965984 -3.945758 -3.112869 -0.853115  0.001510  0.232261 -0.013267   \n",
       "898 -3.993568 -3.960087 -3.130267 -0.863300  0.000306  0.223938 -0.007907   \n",
       "\n",
       "        tbl     lty     ltr     tms     dfy     dfr      infl  \n",
       "0    0.0038  0.0240  0.0127  0.0202  0.0077 -0.0051  0.000000  \n",
       "1    0.0038  0.0236  0.0077  0.0198  0.0076 -0.0031  0.000000  \n",
       "2    0.0038  0.0236  0.0021  0.0198  0.0076 -0.0003  0.000000  \n",
       "3    0.0038  0.0228  0.0160  0.0190  0.0075 -0.0142  0.000000  \n",
       "4    0.0038  0.0226  0.0056  0.0188  0.0070 -0.0067  0.005618  \n",
       "..      ...     ...     ...     ...     ...     ...       ...  \n",
       "894  0.0210  0.0206  0.0024 -0.0004  0.0099  0.0060  0.001671  \n",
       "895  0.0195  0.0163  0.0797 -0.0032  0.0089 -0.0059 -0.000051  \n",
       "896  0.0189  0.0170 -0.0192 -0.0019  0.0088  0.0002  0.000783  \n",
       "897  0.0165  0.0171 -0.0052  0.0006  0.0091  0.0058  0.002286  \n",
       "898  0.0154  0.0181 -0.0059  0.0027  0.0088  0.0073 -0.000536  \n",
       "\n",
       "[899 rows x 14 columns]"
      ]
     },
     "execution_count": 7,
     "metadata": {},
     "output_type": "execute_result"
    }
   ],
   "source": [
    "X = df.drop(columns=[\"Time\",\"Returns\"])\n",
    "X"
   ]
  },
  {
   "cell_type": "markdown",
   "id": "eecd2e5b",
   "metadata": {},
   "source": [
    "cols = X.columns\n",
    "scaler = MinMaxScaler()\n",
    "X = scaler.fit_transform(X)\n",
    "X_df = pd.DataFrame(X)\n",
    "X_df.columns = cols\n",
    "X_df[\"Returns\"] = df[\"Returns\"]\n",
    "X_df"
   ]
  },
  {
   "cell_type": "markdown",
   "id": "6ac77633",
   "metadata": {},
   "source": [
    "corr_df = X_df.corr()\n",
    "corr_df"
   ]
  },
  {
   "cell_type": "markdown",
   "id": "0008d72a",
   "metadata": {},
   "source": [
    "returns = corr_df[\"Returns\"]\n",
    "returns"
   ]
  },
  {
   "cell_type": "markdown",
   "id": "958c1fe9",
   "metadata": {},
   "source": [
    "returns = returns[:-1]\n",
    "percent_corr = returns[abs(returns) > 0.02]"
   ]
  },
  {
   "cell_type": "markdown",
   "id": "d7ac6405",
   "metadata": {},
   "source": [
    "percent_corr"
   ]
  },
  {
   "cell_type": "code",
   "execution_count": 8,
   "id": "ca1fb711",
   "metadata": {},
   "outputs": [],
   "source": [
    "# X = df[[c for c in df.columns if c in percent_corr]]\n",
    "# X.drop(columns=[\"Time\",\"Returns\"],inplace=True)\n",
    "# X = X_df.drop(columns=[\"Returns\"])\n",
    "y = df[\"Returns\"]"
   ]
  },
  {
   "cell_type": "code",
   "execution_count": 9,
   "id": "24873a69",
   "metadata": {},
   "outputs": [
    {
     "data": {
      "text/plain": [
       "Index(['dp', 'dy', 'ep', 'de', 'svar', 'bm', 'ntis', 'tbl', 'lty', 'ltr',\n",
       "       'tms', 'dfy', 'dfr', 'infl'],\n",
       "      dtype='object')"
      ]
     },
     "execution_count": 9,
     "metadata": {},
     "output_type": "execute_result"
    }
   ],
   "source": [
    "X.columns"
   ]
  },
  {
   "cell_type": "code",
   "execution_count": 10,
   "id": "13df7303",
   "metadata": {},
   "outputs": [],
   "source": [
    "X_train, X_test, y_train, y_test = train_test_split(X,y,test_size=0.05)"
   ]
  },
  {
   "cell_type": "code",
   "execution_count": 11,
   "id": "7a316439",
   "metadata": {},
   "outputs": [
    {
     "data": {
      "text/plain": [
       "LogisticRegression()"
      ]
     },
     "execution_count": 11,
     "metadata": {},
     "output_type": "execute_result"
    }
   ],
   "source": [
    "lr = LogisticRegression()\n",
    "\n",
    "lr.fit(X_train, y_train)\n"
   ]
  },
  {
   "cell_type": "code",
   "execution_count": 12,
   "id": "e615ed7b",
   "metadata": {},
   "outputs": [],
   "source": [
    "y_pred = lr.predict(X_test)"
   ]
  },
  {
   "cell_type": "code",
   "execution_count": 13,
   "id": "9806860b",
   "metadata": {},
   "outputs": [
    {
     "data": {
      "text/plain": [
       "array([1, 0, 0, 1, 1, 1, 1, 1, 1, 1, 0, 1, 1, 1, 1, 0, 1, 1, 1, 1, 1, 1,\n",
       "       1, 1, 1, 1, 1, 0, 1, 1, 0, 1, 1, 1, 1, 1, 1, 1, 1, 1, 1, 1, 1, 1,\n",
       "       0])"
      ]
     },
     "execution_count": 13,
     "metadata": {},
     "output_type": "execute_result"
    }
   ],
   "source": [
    "y_pred"
   ]
  },
  {
   "cell_type": "code",
   "execution_count": 14,
   "id": "2a9e6f66",
   "metadata": {},
   "outputs": [],
   "source": [
    "y_test.reset_index(drop=True, inplace=True)"
   ]
  },
  {
   "cell_type": "code",
   "execution_count": 15,
   "id": "c3a01f0f",
   "metadata": {},
   "outputs": [],
   "source": [
    "df_pred = pd.DataFrame({\"y_pred\": y_pred})\n",
    "# df_pred[\"y_pred\"] = y_pred\n",
    "df_pred[\"y_test\"] = y_test\n"
   ]
  },
  {
   "cell_type": "code",
   "execution_count": 16,
   "id": "b80407e3",
   "metadata": {},
   "outputs": [
    {
     "name": "stdout",
     "output_type": "stream",
     "text": [
      "y_pred    21\n",
      "y_test    25\n",
      "dtype: int64\n"
     ]
    }
   ],
   "source": [
    "print(df_pred[y_test==1].sum())"
   ]
  },
  {
   "cell_type": "code",
   "execution_count": 17,
   "id": "597a8491",
   "metadata": {},
   "outputs": [
    {
     "data": {
      "text/plain": [
       "array([[ 3, 17],\n",
       "       [ 4, 21]])"
      ]
     },
     "execution_count": 17,
     "metadata": {},
     "output_type": "execute_result"
    }
   ],
   "source": [
    "confusion_matrix(y_test, y_pred)"
   ]
  },
  {
   "cell_type": "code",
   "execution_count": 18,
   "id": "7a3b5a4b",
   "metadata": {},
   "outputs": [],
   "source": [
    "filename = \"predict_now.sav\"\n",
    "pickle.dump(lr, open(filename, 'wb'))"
   ]
  }
 ],
 "metadata": {
  "kernelspec": {
   "display_name": "Python 3 (ipykernel)",
   "language": "python",
   "name": "python3"
  },
  "language_info": {
   "codemirror_mode": {
    "name": "ipython",
    "version": 3
   },
   "file_extension": ".py",
   "mimetype": "text/x-python",
   "name": "python",
   "nbconvert_exporter": "python",
   "pygments_lexer": "ipython3",
   "version": "3.9.7"
  }
 },
 "nbformat": 4,
 "nbformat_minor": 5
}
